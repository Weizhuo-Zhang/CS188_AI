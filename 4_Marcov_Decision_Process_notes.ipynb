{
  "nbformat": 4,
  "nbformat_minor": 0,
  "metadata": {
    "colab": {
      "name": "Untitled7.ipynb",
      "version": "0.3.2",
      "provenance": [],
      "include_colab_link": true
    },
    "kernelspec": {
      "name": "python3",
      "display_name": "Python 3"
    }
  },
  "cells": [
    {
      "cell_type": "markdown",
      "metadata": {
        "id": "view-in-github",
        "colab_type": "text"
      },
      "source": [
        "<a href=\"https://colab.research.google.com/github/Weizhuo-Zhang/CS188_AI/blob/master/4_Marcov_Decision_Process_notes.ipynb\" target=\"_parent\"><img src=\"https://colab.research.google.com/assets/colab-badge.svg\" alt=\"Open In Colab\"/></a>"
      ]
    },
    {
      "cell_type": "markdown",
      "metadata": {
        "id": "03pSXau-gFxo",
        "colab_type": "text"
      },
      "source": [
        "# Markov Decision Processes\n",
        "\n",
        "## MDP Definition\n",
        "\n",
        "- A <font color=red> set of states $s \\in S$ </font>\n",
        "- A <font color=red> set of actions $a \\in A$ </font>\n",
        "- A <font color=red> transition function $T(s,a,s')$ </font>\n",
        "  - Probability that a from s leads to s’, i.e., $P(s' | s, a)$\n",
        "  - Also called the model or the dynamics\n",
        "- A <font color=red> reward function $R(s,a,s')$ </font>\n",
        "  - Sometimes just $R(s)$ or $R(s')$\n",
        "- A <font color=red> start state </font>\n",
        "- Maybe a <font color=red> terminal state </font>\n",
        "\n",
        "## MDPs are non-deterministic search problems\n",
        "- One way to solve them is with **expectimax search**\n",
        "\n",
        "## Bellman Equations\n",
        "\n",
        "Definition of “optimal utility” via expectimax recurrence gives a simple one-step lookahead relationship amongst optimal utility values。\n",
        "\n",
        "$$V^*(s)=\\max_a Q^*(s,a)$$\n",
        "\n",
        "$$Q^*(s,a)=\\sum_{s'}T(s,a,s')\\left[ R(s,a,s') + \\gamma V^*(s') \\right]$$\n",
        "\n",
        "$$V^*(s) = \\max_a \\sum_{s'}T(s,a,s') \\left[ R(s,a,s') + \\gamma V^*(s') \\right]$$"
      ]
    },
    {
      "cell_type": "code",
      "metadata": {
        "id": "YXXHrIyKhakl",
        "colab_type": "code",
        "colab": {}
      },
      "source": [
        ""
      ],
      "execution_count": 0,
      "outputs": []
    }
  ]
}