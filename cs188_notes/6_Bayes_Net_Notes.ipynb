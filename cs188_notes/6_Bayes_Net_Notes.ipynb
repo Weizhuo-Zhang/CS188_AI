{
  "nbformat": 4,
  "nbformat_minor": 0,
  "metadata": {
    "colab": {
      "name": "6_Bayes_Net_Notes.ipynb",
      "provenance": [],
      "collapsed_sections": [],
      "include_colab_link": true
    },
    "kernelspec": {
      "name": "python3",
      "display_name": "Python 3"
    }
  },
  "cells": [
    {
      "cell_type": "markdown",
      "metadata": {
        "id": "view-in-github",
        "colab_type": "text"
      },
      "source": [
        "<a href=\"https://colab.research.google.com/github/Weizhuo-Zhang/CS188_AI/blob/master/cs188_notes/6_Bayes_Net_Notes.ipynb\" target=\"_parent\"><img src=\"https://colab.research.google.com/assets/colab-badge.svg\" alt=\"Open In Colab\"/></a>"
      ]
    },
    {
      "cell_type": "markdown",
      "metadata": {
        "id": "Vb34xSejm9IO",
        "colab_type": "text"
      },
      "source": [
        "#Bayes Net\n",
        "\n",
        "**Bayes's nets**: a technique for describing complex joint distributions (models) using simple, local distributions (conditional probabilities)\n",
        "- A subset of the general class of **graphical models**\n",
        "\n"
      ]
    }
  ]
}